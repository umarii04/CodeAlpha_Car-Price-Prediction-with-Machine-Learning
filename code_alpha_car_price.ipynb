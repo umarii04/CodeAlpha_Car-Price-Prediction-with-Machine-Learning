{
 "cells": [
  {
   "cell_type": "markdown",
   "id": "d2295764",
   "metadata": {},
   "source": [
    "# TITLE: Car Price Prediction Using Machine Learning:\n",
    "\n",
    "`Author:` [Muhammad Umar Farooqi](https://github.com/umarii04)\\\n",
    "`Date:` 4th.Sep.2025"
   ]
  },
  {
   "cell_type": "markdown",
   "id": "174db2ad",
   "metadata": {},
   "source": [
    "\n",
    "\n",
    "<h2 style=\"background-color:#228B22; color:white; padding:10px 20px; border-radius:8px; font-weight:bold; font-family:'Trebuchet MS', sans-serif; display:inline-block;\">\n",
    "Importing the libraries:\n",
    "</h2>\n",
    "\n"
   ]
  },
  {
   "cell_type": "code",
   "execution_count": 46,
   "id": "95139710",
   "metadata": {},
   "outputs": [],
   "source": [
    "import os, re, joblib, warnings\n",
    "import numpy as np\n",
    "import pandas as pd\n",
    "import matplotlib.pyplot as plt\n",
    "import seaborn as sns\n",
    "\n",
    "from sklearn.model_selection import train_test_split, GridSearchCV\n",
    "from sklearn.compose import ColumnTransformer\n",
    "from sklearn.preprocessing import OneHotEncoder, StandardScaler\n",
    "from sklearn.pipeline import Pipeline\n",
    "from sklearn.metrics import mean_squared_error, mean_absolute_error, r2_score\n",
    "from sklearn.linear_model import ElasticNet\n",
    "from sklearn.linear_model import LinearRegression\n",
    "from sklearn.ensemble import RandomForestRegressor\n",
    "\n",
    "warnings.filterwarnings(\"ignore\")\n",
    "pd.set_option(\"display.max_columns\", 100)\n",
    "sns.set_theme()\n",
    "RANDOM_STATE = 42\n",
    "SNAPSHOT_YEAR = 2025   # Age = SNAPSHOT_YEAR - Year\n"
   ]
  },
  {
   "cell_type": "markdown",
   "id": "c05054cc",
   "metadata": {},
   "source": [
    "\n",
    "<h2 style=\"background-color:#228B22; color:white; padding:10px 20px; border-radius:8px; font-weight:bold; font-family:'Trebuchet MS', sans-serif; display:inline-block;\">\n",
    "Load the dataset:\n",
    "</h2>\n",
    "\n"
   ]
  },
  {
   "cell_type": "code",
   "execution_count": 11,
   "id": "de8b2265",
   "metadata": {},
   "outputs": [
    {
     "data": {
      "text/html": [
       "<div>\n",
       "<style scoped>\n",
       "    .dataframe tbody tr th:only-of-type {\n",
       "        vertical-align: middle;\n",
       "    }\n",
       "\n",
       "    .dataframe tbody tr th {\n",
       "        vertical-align: top;\n",
       "    }\n",
       "\n",
       "    .dataframe thead th {\n",
       "        text-align: right;\n",
       "    }\n",
       "</style>\n",
       "<table border=\"1\" class=\"dataframe\">\n",
       "  <thead>\n",
       "    <tr style=\"text-align: right;\">\n",
       "      <th></th>\n",
       "      <th>Car_Name</th>\n",
       "      <th>Year</th>\n",
       "      <th>Selling_Price</th>\n",
       "      <th>Present_Price</th>\n",
       "      <th>Driven_kms</th>\n",
       "      <th>Fuel_Type</th>\n",
       "      <th>Selling_type</th>\n",
       "      <th>Transmission</th>\n",
       "      <th>Owner</th>\n",
       "    </tr>\n",
       "  </thead>\n",
       "  <tbody>\n",
       "    <tr>\n",
       "      <th>0</th>\n",
       "      <td>ritz</td>\n",
       "      <td>2014</td>\n",
       "      <td>3.35</td>\n",
       "      <td>5.59</td>\n",
       "      <td>27000</td>\n",
       "      <td>Petrol</td>\n",
       "      <td>Dealer</td>\n",
       "      <td>Manual</td>\n",
       "      <td>0</td>\n",
       "    </tr>\n",
       "    <tr>\n",
       "      <th>1</th>\n",
       "      <td>sx4</td>\n",
       "      <td>2013</td>\n",
       "      <td>4.75</td>\n",
       "      <td>9.54</td>\n",
       "      <td>43000</td>\n",
       "      <td>Diesel</td>\n",
       "      <td>Dealer</td>\n",
       "      <td>Manual</td>\n",
       "      <td>0</td>\n",
       "    </tr>\n",
       "    <tr>\n",
       "      <th>2</th>\n",
       "      <td>ciaz</td>\n",
       "      <td>2017</td>\n",
       "      <td>7.25</td>\n",
       "      <td>9.85</td>\n",
       "      <td>6900</td>\n",
       "      <td>Petrol</td>\n",
       "      <td>Dealer</td>\n",
       "      <td>Manual</td>\n",
       "      <td>0</td>\n",
       "    </tr>\n",
       "    <tr>\n",
       "      <th>3</th>\n",
       "      <td>wagon r</td>\n",
       "      <td>2011</td>\n",
       "      <td>2.85</td>\n",
       "      <td>4.15</td>\n",
       "      <td>5200</td>\n",
       "      <td>Petrol</td>\n",
       "      <td>Dealer</td>\n",
       "      <td>Manual</td>\n",
       "      <td>0</td>\n",
       "    </tr>\n",
       "    <tr>\n",
       "      <th>4</th>\n",
       "      <td>swift</td>\n",
       "      <td>2014</td>\n",
       "      <td>4.60</td>\n",
       "      <td>6.87</td>\n",
       "      <td>42450</td>\n",
       "      <td>Diesel</td>\n",
       "      <td>Dealer</td>\n",
       "      <td>Manual</td>\n",
       "      <td>0</td>\n",
       "    </tr>\n",
       "  </tbody>\n",
       "</table>\n",
       "</div>"
      ],
      "text/plain": [
       "  Car_Name  Year  Selling_Price  Present_Price  Driven_kms Fuel_Type  \\\n",
       "0     ritz  2014           3.35           5.59       27000    Petrol   \n",
       "1      sx4  2013           4.75           9.54       43000    Diesel   \n",
       "2     ciaz  2017           7.25           9.85        6900    Petrol   \n",
       "3  wagon r  2011           2.85           4.15        5200    Petrol   \n",
       "4    swift  2014           4.60           6.87       42450    Diesel   \n",
       "\n",
       "  Selling_type Transmission  Owner  \n",
       "0       Dealer       Manual      0  \n",
       "1       Dealer       Manual      0  \n",
       "2       Dealer       Manual      0  \n",
       "3       Dealer       Manual      0  \n",
       "4       Dealer       Manual      0  "
      ]
     },
     "execution_count": 11,
     "metadata": {},
     "output_type": "execute_result"
    }
   ],
   "source": [
    "df = pd.read_csv(\"car data.csv\")\n",
    "df.head()\n"
   ]
  },
  {
   "cell_type": "markdown",
   "id": "5c293f7b",
   "metadata": {},
   "source": [
    "<h2 style=\"background-color:#228B22; color:white; padding:10px 20px; border-radius:8px; font-weight:bold; font-family:'Trebuchet MS', sans-serif; display:inline-block;\">\n",
    "Exploratory Data Analysis(EDA):\n",
    "</h2>\n",
    "\n"
   ]
  },
  {
   "cell_type": "code",
   "execution_count": 13,
   "id": "05a1d45a",
   "metadata": {},
   "outputs": [
    {
     "name": "stdout",
     "output_type": "stream",
     "text": [
      "<class 'pandas.core.frame.DataFrame'>\n",
      "RangeIndex: 301 entries, 0 to 300\n",
      "Data columns (total 9 columns):\n",
      " #   Column         Non-Null Count  Dtype  \n",
      "---  ------         --------------  -----  \n",
      " 0   Car_Name       301 non-null    object \n",
      " 1   Year           301 non-null    int64  \n",
      " 2   Selling_Price  301 non-null    float64\n",
      " 3   Present_Price  301 non-null    float64\n",
      " 4   Driven_kms     301 non-null    int64  \n",
      " 5   Fuel_Type      301 non-null    object \n",
      " 6   Selling_type   301 non-null    object \n",
      " 7   Transmission   301 non-null    object \n",
      " 8   Owner          301 non-null    int64  \n",
      "dtypes: float64(2), int64(3), object(4)\n",
      "memory usage: 21.3+ KB\n"
     ]
    }
   ],
   "source": [
    "df.info()"
   ]
  },
  {
   "cell_type": "code",
   "execution_count": null,
   "id": "68e87007",
   "metadata": {},
   "outputs": [
    {
     "name": "stdout",
     "output_type": "stream",
     "text": [
      "(301, 9)\n"
     ]
    }
   ],
   "source": [
    "print(df.shape)"
   ]
  },
  {
   "cell_type": "code",
   "execution_count": 14,
   "id": "efcb5c72",
   "metadata": {},
   "outputs": [
    {
     "data": {
      "text/html": [
       "<div>\n",
       "<style scoped>\n",
       "    .dataframe tbody tr th:only-of-type {\n",
       "        vertical-align: middle;\n",
       "    }\n",
       "\n",
       "    .dataframe tbody tr th {\n",
       "        vertical-align: top;\n",
       "    }\n",
       "\n",
       "    .dataframe thead th {\n",
       "        text-align: right;\n",
       "    }\n",
       "</style>\n",
       "<table border=\"1\" class=\"dataframe\">\n",
       "  <thead>\n",
       "    <tr style=\"text-align: right;\">\n",
       "      <th></th>\n",
       "      <th>Year</th>\n",
       "      <th>Selling_Price</th>\n",
       "      <th>Present_Price</th>\n",
       "      <th>Driven_kms</th>\n",
       "      <th>Owner</th>\n",
       "    </tr>\n",
       "  </thead>\n",
       "  <tbody>\n",
       "    <tr>\n",
       "      <th>count</th>\n",
       "      <td>301.000000</td>\n",
       "      <td>301.000000</td>\n",
       "      <td>301.000000</td>\n",
       "      <td>301.000000</td>\n",
       "      <td>301.000000</td>\n",
       "    </tr>\n",
       "    <tr>\n",
       "      <th>mean</th>\n",
       "      <td>2013.627907</td>\n",
       "      <td>4.661296</td>\n",
       "      <td>7.628472</td>\n",
       "      <td>36947.205980</td>\n",
       "      <td>0.043189</td>\n",
       "    </tr>\n",
       "    <tr>\n",
       "      <th>std</th>\n",
       "      <td>2.891554</td>\n",
       "      <td>5.082812</td>\n",
       "      <td>8.642584</td>\n",
       "      <td>38886.883882</td>\n",
       "      <td>0.247915</td>\n",
       "    </tr>\n",
       "    <tr>\n",
       "      <th>min</th>\n",
       "      <td>2003.000000</td>\n",
       "      <td>0.100000</td>\n",
       "      <td>0.320000</td>\n",
       "      <td>500.000000</td>\n",
       "      <td>0.000000</td>\n",
       "    </tr>\n",
       "    <tr>\n",
       "      <th>25%</th>\n",
       "      <td>2012.000000</td>\n",
       "      <td>0.900000</td>\n",
       "      <td>1.200000</td>\n",
       "      <td>15000.000000</td>\n",
       "      <td>0.000000</td>\n",
       "    </tr>\n",
       "    <tr>\n",
       "      <th>50%</th>\n",
       "      <td>2014.000000</td>\n",
       "      <td>3.600000</td>\n",
       "      <td>6.400000</td>\n",
       "      <td>32000.000000</td>\n",
       "      <td>0.000000</td>\n",
       "    </tr>\n",
       "    <tr>\n",
       "      <th>75%</th>\n",
       "      <td>2016.000000</td>\n",
       "      <td>6.000000</td>\n",
       "      <td>9.900000</td>\n",
       "      <td>48767.000000</td>\n",
       "      <td>0.000000</td>\n",
       "    </tr>\n",
       "    <tr>\n",
       "      <th>max</th>\n",
       "      <td>2018.000000</td>\n",
       "      <td>35.000000</td>\n",
       "      <td>92.600000</td>\n",
       "      <td>500000.000000</td>\n",
       "      <td>3.000000</td>\n",
       "    </tr>\n",
       "  </tbody>\n",
       "</table>\n",
       "</div>"
      ],
      "text/plain": [
       "              Year  Selling_Price  Present_Price     Driven_kms       Owner\n",
       "count   301.000000     301.000000     301.000000     301.000000  301.000000\n",
       "mean   2013.627907       4.661296       7.628472   36947.205980    0.043189\n",
       "std       2.891554       5.082812       8.642584   38886.883882    0.247915\n",
       "min    2003.000000       0.100000       0.320000     500.000000    0.000000\n",
       "25%    2012.000000       0.900000       1.200000   15000.000000    0.000000\n",
       "50%    2014.000000       3.600000       6.400000   32000.000000    0.000000\n",
       "75%    2016.000000       6.000000       9.900000   48767.000000    0.000000\n",
       "max    2018.000000      35.000000      92.600000  500000.000000    3.000000"
      ]
     },
     "execution_count": 14,
     "metadata": {},
     "output_type": "execute_result"
    }
   ],
   "source": [
    "df.describe()"
   ]
  },
  {
   "cell_type": "code",
   "execution_count": null,
   "id": "197556f6",
   "metadata": {},
   "outputs": [
    {
     "data": {
      "text/plain": [
       "Car_Name         0\n",
       "Year             0\n",
       "Selling_Price    0\n",
       "Present_Price    0\n",
       "Driven_kms       0\n",
       "Fuel_Type        0\n",
       "Selling_type     0\n",
       "Transmission     0\n",
       "Owner            0\n",
       "dtype: int64"
      ]
     },
     "execution_count": 18,
     "metadata": {},
     "output_type": "execute_result"
    }
   ],
   "source": [
    "df.isnull().sum()\n",
    "# no null values in the dataset"
   ]
  },
  {
   "cell_type": "code",
   "execution_count": 19,
   "id": "b2c58ca3",
   "metadata": {},
   "outputs": [
    {
     "data": {
      "image/png": "[encoded data removed]",
      "text/plain": [
       "<Figure size 1000x300 with 4 Axes>"
      ]
     },
     "metadata": {},
     "output_type": "display_data"
    }
   ],
   "source": [
    "num_cols_raw = [\"Selling_Price\", \"Present_Price\", \"Driven_kms\"]\n",
    "df[num_cols_raw].hist(bins=30, figsize=(10,3))\n",
    "plt.tight_layout(); plt.show()"
   ]
  },
  {
   "cell_type": "code",
   "execution_count": 21,
   "id": "60089843",
   "metadata": {},
   "outputs": [
    {
     "data": {
      "image/png": "[encoded data removed]",
      "text/plain": [
       "<Figure size 640x480 with 1 Axes>"
      ]
     },
     "metadata": {},
     "output_type": "display_data"
    }
   ],
   "source": [
    "for c in [\"Fuel_Type\"]:\n",
    "    plt.figure()\n",
    "    sns.countplot(x=c, data=df, order=df[c].value_counts().index)\n",
    "    plt.title(c); plt.xticks(rotation=30); plt.show()"
   ]
  },
  {
   "cell_type": "code",
   "execution_count": 28,
   "id": "feea704d",
   "metadata": {},
   "outputs": [
    {
     "data": {
      "text/plain": [
       "<Axes: xlabel='Fuel_Type', ylabel='count'>"
      ]
     },
     "execution_count": 28,
     "metadata": {},
     "output_type": "execute_result"
    },
    {
     "data": {
      "image/png": "[encoded data removed]",
      "text/plain": [
       "<Figure size 640x480 with 1 Axes>"
      ]
     },
     "metadata": {},
     "output_type": "display_data"
    }
   ],
   "source": [
    "sns.countplot(data=df , x=\"Fuel_Type\", hue= 'Present_Price')"
   ]
  },
  {
   "cell_type": "markdown",
   "id": "8aa22cf3",
   "metadata": {},
   "source": [
    "<h2 style=\"background-color:#228B22; color:white; padding:10px 20px; border-radius:8px; font-weight:bold; font-family:'Trebuchet MS', sans-serif; display:inline-block;\">\n",
    "Feature Engineering:\n",
    "</h2>\n",
    "\n"
   ]
  },
  {
   "cell_type": "code",
   "execution_count": 37,
   "id": "16758685",
   "metadata": {},
   "outputs": [
    {
     "data": {
      "text/html": [
       "<div>\n",
       "<style scoped>\n",
       "    .dataframe tbody tr th:only-of-type {\n",
       "        vertical-align: middle;\n",
       "    }\n",
       "\n",
       "    .dataframe tbody tr th {\n",
       "        vertical-align: top;\n",
       "    }\n",
       "\n",
       "    .dataframe thead th {\n",
       "        text-align: right;\n",
       "    }\n",
       "</style>\n",
       "<table border=\"1\" class=\"dataframe\">\n",
       "  <thead>\n",
       "    <tr style=\"text-align: right;\">\n",
       "      <th></th>\n",
       "      <th>Selling_Price</th>\n",
       "      <th>Present_Price</th>\n",
       "      <th>Driven_kms</th>\n",
       "      <th>Fuel_Type</th>\n",
       "      <th>Selling_type</th>\n",
       "      <th>Transmission</th>\n",
       "      <th>Owner</th>\n",
       "      <th>Brand</th>\n",
       "      <th>Age</th>\n",
       "      <th>Driven_kms_log</th>\n",
       "      <th>price_per_age</th>\n",
       "    </tr>\n",
       "  </thead>\n",
       "  <tbody>\n",
       "    <tr>\n",
       "      <th>0</th>\n",
       "      <td>3.35</td>\n",
       "      <td>5.59</td>\n",
       "      <td>27000</td>\n",
       "      <td>Petrol</td>\n",
       "      <td>Dealer</td>\n",
       "      <td>Manual</td>\n",
       "      <td>0</td>\n",
       "      <td>other</td>\n",
       "      <td>11</td>\n",
       "      <td>10.203629</td>\n",
       "      <td>0.465833</td>\n",
       "    </tr>\n",
       "    <tr>\n",
       "      <th>1</th>\n",
       "      <td>4.75</td>\n",
       "      <td>9.54</td>\n",
       "      <td>43000</td>\n",
       "      <td>Diesel</td>\n",
       "      <td>Dealer</td>\n",
       "      <td>Manual</td>\n",
       "      <td>0</td>\n",
       "      <td>sx4</td>\n",
       "      <td>12</td>\n",
       "      <td>10.668979</td>\n",
       "      <td>0.733846</td>\n",
       "    </tr>\n",
       "    <tr>\n",
       "      <th>2</th>\n",
       "      <td>7.25</td>\n",
       "      <td>9.85</td>\n",
       "      <td>6900</td>\n",
       "      <td>Petrol</td>\n",
       "      <td>Dealer</td>\n",
       "      <td>Manual</td>\n",
       "      <td>0</td>\n",
       "      <td>ciaz</td>\n",
       "      <td>8</td>\n",
       "      <td>8.839422</td>\n",
       "      <td>1.094444</td>\n",
       "    </tr>\n",
       "    <tr>\n",
       "      <th>3</th>\n",
       "      <td>2.85</td>\n",
       "      <td>4.15</td>\n",
       "      <td>5200</td>\n",
       "      <td>Petrol</td>\n",
       "      <td>Dealer</td>\n",
       "      <td>Manual</td>\n",
       "      <td>0</td>\n",
       "      <td>other</td>\n",
       "      <td>14</td>\n",
       "      <td>8.556606</td>\n",
       "      <td>0.276667</td>\n",
       "    </tr>\n",
       "    <tr>\n",
       "      <th>4</th>\n",
       "      <td>4.60</td>\n",
       "      <td>6.87</td>\n",
       "      <td>42450</td>\n",
       "      <td>Diesel</td>\n",
       "      <td>Dealer</td>\n",
       "      <td>Manual</td>\n",
       "      <td>0</td>\n",
       "      <td>swift</td>\n",
       "      <td>11</td>\n",
       "      <td>10.656106</td>\n",
       "      <td>0.572500</td>\n",
       "    </tr>\n",
       "  </tbody>\n",
       "</table>\n",
       "</div>"
      ],
      "text/plain": [
       "   Selling_Price  Present_Price  Driven_kms Fuel_Type Selling_type  \\\n",
       "0           3.35           5.59       27000    Petrol       Dealer   \n",
       "1           4.75           9.54       43000    Diesel       Dealer   \n",
       "2           7.25           9.85        6900    Petrol       Dealer   \n",
       "3           2.85           4.15        5200    Petrol       Dealer   \n",
       "4           4.60           6.87       42450    Diesel       Dealer   \n",
       "\n",
       "  Transmission  Owner  Brand  Age  Driven_kms_log  price_per_age  \n",
       "0       Manual      0  other   11       10.203629       0.465833  \n",
       "1       Manual      0    sx4   12       10.668979       0.733846  \n",
       "2       Manual      0   ciaz    8        8.839422       1.094444  \n",
       "3       Manual      0  other   14        8.556606       0.276667  \n",
       "4       Manual      0  swift   11       10.656106       0.572500  "
      ]
     },
     "execution_count": 37,
     "metadata": {},
     "output_type": "execute_result"
    }
   ],
   "source": [
    "def extract_brand(name: str) -> str:\n",
    "    if pd.isna(name): \n",
    "        return \"other\"\n",
    "    brand = name.split()[0].lower()\n",
    "    brand = re.sub(r\"[^a-z0-9]\", \"\", brand)\n",
    "    return brand or \"other\"\n",
    "\n",
    "def add_features(df_in: pd.DataFrame, snapshot_year: int = SNAPSHOT_YEAR) -> pd.DataFrame:\n",
    "    df2 = df_in.copy()\n",
    "\n",
    "    # Brand from Car_Name\n",
    "    df2[\"Brand\"] = df2[\"Car_Name\"].astype(str).map(extract_brand)\n",
    "    counts = df2[\"Brand\"].value_counts()\n",
    "    rare_brands = counts[counts < 5].index\n",
    "    df2.loc[df2[\"Brand\"].isin(rare_brands), \"Brand\"] = \"other\"\n",
    "\n",
    "    # Car age\n",
    "    df2[\"Age\"] = (snapshot_year - df2[\"Year\"]).clip(lower=0)\n",
    "\n",
    "    # Log transform for kms\n",
    "    df2[\"Driven_kms_log\"] = np.log1p(df2[\"Driven_kms\"])\n",
    "\n",
    "    # Helper ratio\n",
    "    df2[\"price_per_age\"] = df2[\"Present_Price\"] / (df2[\"Age\"] + 1)\n",
    "\n",
    "    # Drop high-cardinality/raw cols not needed after FE\n",
    "    df2 = df2.drop(columns=[\"Car_Name\", \"Year\"])\n",
    "    return df2\n",
    "\n",
    "df_fe = add_features(df)\n",
    "df_fe.head()\n"
   ]
  },
  {
   "cell_type": "markdown",
   "id": "2512e9e5",
   "metadata": {},
   "source": [
    "<h2 style=\"background-color:#228B22; color:white; padding:10px 20px; border-radius:8px; font-weight:bold; font-family:'Trebuchet MS', sans-serif; display:inline-block;\">\n",
    "Train and Test Split:\n",
    "</h2>\n",
    "\n"
   ]
  },
  {
   "cell_type": "code",
   "execution_count": 42,
   "id": "308d9516",
   "metadata": {},
   "outputs": [
    {
     "data": {
      "text/plain": [
       "((240, 10), (61, 10))"
      ]
     },
     "execution_count": 42,
     "metadata": {},
     "output_type": "execute_result"
    }
   ],
   "source": [
    "# Cell 6\n",
    "TARGET = \"Selling_Price\"\n",
    "X = df_fe.drop(columns=[TARGET])\n",
    "y = df_fe[TARGET]\n",
    "\n",
    "X_train, X_test, y_train, y_test = train_test_split(\n",
    "    X, y, test_size=0.20, random_state=RANDOM_STATE\n",
    ")\n",
    "\n",
    "X_train.shape, X_test.shape\n"
   ]
  },
  {
   "cell_type": "markdown",
   "id": "0c558f69",
   "metadata": {},
   "source": [
    "<h2 style=\"background-color:#228B22; color:white; padding:10px 20px; border-radius:8px; font-weight:bold; font-family:'Trebuchet MS', sans-serif; display:inline-block;\">\n",
    "Pre-Processing:\n",
    "</h2>\n",
    "\n"
   ]
  },
  {
   "cell_type": "code",
   "execution_count": 43,
   "id": "417dc9f2",
   "metadata": {},
   "outputs": [],
   "source": [
    "# Cell 7\n",
    "num_cols = [\"Present_Price\",\"Driven_kms\",\"Driven_kms_log\",\"Owner\",\"Age\",\"price_per_age\"]\n",
    "cat_cols = [\"Fuel_Type\",\"Selling_type\",\"Transmission\",\"Brand\"]\n",
    "\n",
    "numeric_tf = Pipeline([(\"scaler\", StandardScaler())])\n",
    "# Note: If your sklearn is old and errors on min_frequency, remove that arg.\n",
    "categorical_tf = Pipeline([(\"ohe\", OneHotEncoder(handle_unknown=\"ignore\", min_frequency=5))])\n",
    "\n",
    "preprocess = ColumnTransformer(\n",
    "    transformers=[\n",
    "        (\"num\", numeric_tf, num_cols),\n",
    "        (\"cat\", categorical_tf, cat_cols),\n",
    "    ],\n",
    "    remainder=\"drop\"\n",
    ")\n"
   ]
  },
  {
   "cell_type": "markdown",
   "id": "603a2ac6",
   "metadata": {},
   "source": [
    "<h2 style=\"background-color:#228B22; color:white; padding:10px 20px; border-radius:8px; font-weight:bold; font-family:'Trebuchet MS', sans-serif; display:inline-block;\">\n",
    "Baseline model: ElasticNet\n",
    "</h2>\n",
    "\n"
   ]
  },
  {
   "cell_type": "code",
   "execution_count": null,
   "id": "4df94c9b",
   "metadata": {},
   "outputs": [
    {
     "name": "stdout",
     "output_type": "stream",
     "text": [
      "ElasticNet best CV RMSE: 0.8240031434114303\n",
      "ElasticNet best params: {'model__alpha': 0.01, 'model__l1_ratio': 0.9}\n"
     ]
    }
   ],
   "source": [
    "enet = Pipeline([\n",
    "    (\"pre\", preprocess),\n",
    "    (\"model\", ElasticNet(max_iter=2000, random_state=RANDOM_STATE))\n",
    "])\n",
    "\n",
    "enet_params = {\n",
    "    \"model__alpha\": [0.01, 0.1, 1, 10],\n",
    "    \"model__l1_ratio\": [0.1, 0.5, 0.9],\n",
    "}\n",
    "\n",
    "enet_grid = GridSearchCV(\n",
    "    enet, enet_params,\n",
    "    cv=5, n_jobs=-1, scoring=\"neg_root_mean_squared_error\", verbose=0\n",
    ")\n",
    "enet_grid.fit(X_train, y_train)\n",
    "\n",
    "print(\"ElasticNet best CV RMSE:\", -enet_grid.best_score_)\n",
    "print(\"ElasticNet best params:\", enet_grid.best_params_)\n"
   ]
  },
  {
   "cell_type": "markdown",
   "id": "52bfef24",
   "metadata": {},
   "source": [
    "<h2 style=\"background-color:#228B22; color:white; padding:10px 20px; border-radius:8px; font-weight:bold; font-family:'Trebuchet MS', sans-serif; display:inline-block;\">\n",
    "RandomForest\n",
    "</h2>\n",
    "\n"
   ]
  },
  {
   "cell_type": "code",
   "execution_count": 45,
   "id": "437717b9",
   "metadata": {},
   "outputs": [
    {
     "name": "stdout",
     "output_type": "stream",
     "text": [
      "RF best CV RMSE: 1.302111575002654\n",
      "RF best params: {'model__max_depth': 12, 'model__min_samples_leaf': 1, 'model__n_estimators': 800}\n"
     ]
    }
   ],
   "source": [
    "rf = Pipeline([\n",
    "    (\"pre\", preprocess),\n",
    "    (\"model\", RandomForestRegressor(random_state=RANDOM_STATE))\n",
    "])\n",
    "\n",
    "rf_params = {\n",
    "    \"model__n_estimators\": [400, 800],\n",
    "    \"model__max_depth\": [None, 8, 12],\n",
    "    \"model__min_samples_leaf\": [1, 3, 5],\n",
    "}\n",
    "\n",
    "rf_grid = GridSearchCV(\n",
    "    rf, rf_params,\n",
    "    cv=5, n_jobs=-1, scoring=\"neg_root_mean_squared_error\", verbose=0\n",
    ")\n",
    "rf_grid.fit(X_train, y_train)\n",
    "\n",
    "print(\"RF best CV RMSE:\", -rf_grid.best_score_)\n",
    "print(\"RF best params:\", rf_grid.best_params_)\n"
   ]
  },
  {
   "cell_type": "markdown",
   "id": "084fda62",
   "metadata": {},
   "source": [
    "<h2 style=\"background-color:#228B22; color:white; padding:10px 20px; border-radius:8px; font-weight:bold; font-family:'Trebuchet MS', sans-serif; display:inline-block;\">\n",
    "Linear Regression\n",
    "</h2>\n",
    "\n"
   ]
  },
  {
   "cell_type": "code",
   "execution_count": 48,
   "id": "6797c7b9",
   "metadata": {},
   "outputs": [
    {
     "name": "stdout",
     "output_type": "stream",
     "text": [
      "Linear Regression best CV RMSE: 1.059298315717659\n"
     ]
    }
   ],
   "source": [
    "lr = Pipeline([\n",
    "    (\"pre\", preprocess),\n",
    "    (\"model\", LinearRegression())\n",
    "])\n",
    "lr_params = {}\n",
    "lr_grid = GridSearchCV(\n",
    "    lr, lr_params,\n",
    "    cv=5, n_jobs=-1, scoring=\"neg_root_mean_squared_error\", verbose=0\n",
    ")\n",
    "lr_grid.fit(X_train, y_train)\n",
    "\n",
    "print(\"Linear Regression best CV RMSE:\", -lr_grid.best_score_)\n"
   ]
  },
  {
   "cell_type": "markdown",
   "id": "f2bfaac7",
   "metadata": {},
   "source": [
    "<h2 style=\"background-color:#228B22; color:white; padding:10px 20px; border-radius:8px; font-weight:bold; font-family:'Trebuchet MS', sans-serif; display:inline-block;\">\n",
    "Compare CV scores & pick the winner\n",
    "</h2>\n",
    "\n"
   ]
  },
  {
   "cell_type": "code",
   "execution_count": 49,
   "id": "320024b5",
   "metadata": {},
   "outputs": [
    {
     "name": "stdout",
     "output_type": "stream",
     "text": [
      "Best by CV: ElasticNet\n",
      "Best CV RMSE: 0.8240031434114303\n",
      "Params: {'model__alpha': 0.01, 'model__l1_ratio': 0.9}\n"
     ]
    }
   ],
   "source": [
    "# Cell 11\n",
    "candidates = [\n",
    "    (\"ElasticNet\", enet_grid),\n",
    "    (\"RandomForest\", rf_grid),\n",
    "    (\"LinearRegression\", lr_grid),\n",
    "]\n",
    "best_name, best_grid = sorted(candidates, key=lambda kv: -kv[1].best_score_)[0]\n",
    "\n",
    "print(\"Best by CV:\", best_name)\n",
    "print(\"Best CV RMSE:\", -best_grid.best_score_)\n",
    "print(\"Params:\", best_grid.best_params_)\n"
   ]
  },
  {
   "cell_type": "markdown",
   "id": "b4a015d4",
   "metadata": {},
   "source": [
    "<h2 style=\"background-color:#228B22; color:white; padding:10px 20px; border-radius:8px; font-weight:bold; font-family:'Trebuchet MS', sans-serif; display:inline-block;\">\n",
    "Evaluate of Metrics\n",
    "</h2>\n",
    "\n"
   ]
  },
  {
   "cell_type": "code",
   "execution_count": 52,
   "id": "9574d192",
   "metadata": {},
   "outputs": [
    {
     "name": "stdout",
     "output_type": "stream",
     "text": [
      "TEST → MAE: 0.508 | R²: 0.976\n"
     ]
    }
   ],
   "source": [
    "y_pred = best_grid.predict(X_test)\n",
    "\n",
    "mae  = mean_absolute_error(y_test, y_pred)\n",
    "r2   = r2_score(y_test, y_pred)\n",
    "print(f\"TEST → MAE: {mae:.3f} | R²: {r2:.3f}\")\n"
   ]
  },
  {
   "cell_type": "markdown",
   "id": "b3c50ec4",
   "metadata": {},
   "source": [
    "<h2 style=\"background-color:#228B22; color:white; padding:10px 20px; border-radius:8px; font-weight:bold; font-family:'Trebuchet MS', sans-serif; display:inline-block;\">\n",
    "Actual vs Predicted:\n",
    "</h2>\n",
    "\n"
   ]
  },
  {
   "cell_type": "code",
   "execution_count": 53,
   "id": "5ed3b91a",
   "metadata": {},
   "outputs": [
    {
     "data": {
      "image/png": "[encoded data removed]",
      "text/plain": [
       "<Figure size 640x480 with 1 Axes>"
      ]
     },
     "metadata": {},
     "output_type": "display_data"
    },
    {
     "data": {
      "image/png": "[encoded data removed]",
      "text/plain": [
       "<Figure size 640x480 with 1 Axes>"
      ]
     },
     "metadata": {},
     "output_type": "display_data"
    }
   ],
   "source": [
    "plt.figure()\n",
    "sns.scatterplot(x=y_test, y=y_pred)\n",
    "plt.xlabel(\"Actual\"); plt.ylabel(\"Predicted\")\n",
    "plt.title(\"Predicted vs Actual\"); plt.show()\n",
    "\n",
    "residuals = y_test - y_pred\n",
    "plt.figure()\n",
    "sns.histplot(residuals, bins=30, kde=True)\n",
    "plt.title(\"Residuals\"); plt.xlabel(\"Error\"); plt.show()\n"
   ]
  },
  {
   "cell_type": "code",
   "execution_count": 55,
   "id": "90ad0a1e",
   "metadata": {},
   "outputs": [
    {
     "data": {
      "text/plain": [
       "'car_price_pipeline_model.joblib'"
      ]
     },
     "execution_count": 55,
     "metadata": {},
     "output_type": "execute_result"
    }
   ],
   "source": [
    "MODEL_PATH = \"car_price_pipeline_model.joblib\"\n",
    "joblib.dump(best_grid, MODEL_PATH)\n",
    "MODEL_PATH"
   ]
  },
  {
   "cell_type": "code",
   "execution_count": 60,
   "id": "35308c89",
   "metadata": {},
   "outputs": [
    {
     "name": "stdout",
     "output_type": "stream",
     "text": [
      "Predicted price: 4.182261102157447\n"
     ]
    }
   ],
   "source": [
    "def predict_price(example: dict, snapshot_year: int = SNAPSHOT_YEAR, model_path: str = \"car_price_pipeline_model.joblib\") -> float:\n",
    "    pipe = joblib.load(model_path)\n",
    "    df_one = pd.DataFrame([example])\n",
    "    df_one_fe = add_features(df_one, snapshot_year=snapshot_year)\n",
    "    return float(pipe.predict(df_one_fe)[0])\n",
    "\n",
    "# Example usage:\n",
    "example = {\n",
    "    \"Car_Name\": \"swift vxi\",\n",
    "    \"Year\": 2016,\n",
    "    \"Selling_Price\": 0,      # not used\n",
    "    \"Present_Price\": 6.0,\n",
    "    \"Driven_kms\": 42000,\n",
    "    \"Fuel_Type\": \"Petrol\",\n",
    "    \"Selling_type\": \"Dealer\",\n",
    "    \"Transmission\": \"Manual\",\n",
    "    \"Owner\": 1\n",
    "}\n",
    "print(\"Predicted price:\", predict_price(example))\n"
   ]
  }
 ],
 "metadata": {
  "kernelspec": {
   "display_name": "python_ml",
   "language": "python",
   "name": "python3"
  },
  "language_info": {
   "codemirror_mode": {
    "name": "ipython",
    "version": 3
   },
   "file_extension": ".py",
   "mimetype": "text/x-python",
   "name": "python",
   "nbconvert_exporter": "python",
   "pygments_lexer": "ipython3",
   "version": "3.13.2"
  }
 },
 "nbformat": 4,
 "nbformat_minor": 5
}
